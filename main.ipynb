{
 "cells": [
  {
   "cell_type": "code",
   "execution_count": 1,
   "metadata": {},
   "outputs": [],
   "source": [
    "import pandas as pd\n",
    "import numpy as np\n",
    "from sklearn.model_selection import train_test_split \n",
    "from sklearn.ensemble import RandomForestClassifier\n",
    "from sklearn.neural_network import MLPClassifier\n",
    "from sklearn.model_selection import GridSearchCV\n",
    "from sklearn.metrics import accuracy_score,precision_score, recall_score, confusion_matrix\n",
    "file_path = 'url_dataset.csv'\n",
    "data = pd.read_csv(file_path)"
   ]
  },
  {
   "cell_type": "code",
   "execution_count": 2,
   "metadata": {},
   "outputs": [
    {
     "name": "stdout",
     "output_type": "stream",
     "text": [
      "<class 'pandas.core.frame.DataFrame'>\n",
      "RangeIndex: 10000 entries, 0 to 9999\n",
      "Data columns (total 18 columns):\n",
      " #   Column         Non-Null Count  Dtype \n",
      "---  ------         --------------  ----- \n",
      " 0   Domain         10000 non-null  object\n",
      " 1   Have_IP        10000 non-null  int64 \n",
      " 2   Have_At        10000 non-null  int64 \n",
      " 3   URL_Length     10000 non-null  int64 \n",
      " 4   URL_Depth      10000 non-null  int64 \n",
      " 5   Redirection    10000 non-null  int64 \n",
      " 6   https_Domain   10000 non-null  int64 \n",
      " 7   TinyURL        10000 non-null  int64 \n",
      " 8   Prefix/Suffix  10000 non-null  int64 \n",
      " 9   DNS_Record     10000 non-null  int64 \n",
      " 10  Web_Traffic    10000 non-null  int64 \n",
      " 11  Domain_Age     10000 non-null  int64 \n",
      " 12  Domain_End     10000 non-null  int64 \n",
      " 13  iFrame         10000 non-null  int64 \n",
      " 14  Mouse_Over     10000 non-null  int64 \n",
      " 15  Right_Click    10000 non-null  int64 \n",
      " 16  Web_Forwards   10000 non-null  int64 \n",
      " 17  Label          10000 non-null  int64 \n",
      "dtypes: int64(17), object(1)\n",
      "memory usage: 1.4+ MB\n"
     ]
    },
    {
     "data": {
      "text/plain": [
       "(None,\n",
       "             Have_IP       Have_At    URL_Length     URL_Depth   Redirection  \\\n",
       " count  10000.000000  10000.000000  10000.000000  10000.000000  10000.000000   \n",
       " mean       0.005500      0.022600      0.773400      3.072000      0.013500   \n",
       " std        0.073961      0.148632      0.418653      2.128631      0.115408   \n",
       " min        0.000000      0.000000      0.000000      0.000000      0.000000   \n",
       " 25%        0.000000      0.000000      1.000000      2.000000      0.000000   \n",
       " 50%        0.000000      0.000000      1.000000      3.000000      0.000000   \n",
       " 75%        0.000000      0.000000      1.000000      4.000000      0.000000   \n",
       " max        1.000000      1.000000      1.000000     20.000000      1.000000   \n",
       " \n",
       "        https_Domain       TinyURL  Prefix/Suffix    DNS_Record   Web_Traffic  \\\n",
       " count  10000.000000  10000.000000   10000.000000  10000.000000  10000.000000   \n",
       " mean       0.000200      0.090300       0.093200      0.100800      0.845700   \n",
       " std        0.014141      0.286625       0.290727      0.301079      0.361254   \n",
       " min        0.000000      0.000000       0.000000      0.000000      0.000000   \n",
       " 25%        0.000000      0.000000       0.000000      0.000000      1.000000   \n",
       " 50%        0.000000      0.000000       0.000000      0.000000      1.000000   \n",
       " 75%        0.000000      0.000000       0.000000      0.000000      1.000000   \n",
       " max        1.000000      1.000000       1.000000      1.000000      1.000000   \n",
       " \n",
       "          Domain_Age  Domain_End        iFrame   Mouse_Over  Right_Click  \\\n",
       " count  10000.000000  10000.0000  10000.000000  10000.00000  10000.00000   \n",
       " mean       0.413700      0.8099      0.090900      0.06660      0.99930   \n",
       " std        0.492521      0.3924      0.287481      0.24934      0.02645   \n",
       " min        0.000000      0.0000      0.000000      0.00000      0.00000   \n",
       " 25%        0.000000      1.0000      0.000000      0.00000      1.00000   \n",
       " 50%        0.000000      1.0000      0.000000      0.00000      1.00000   \n",
       " 75%        1.000000      1.0000      0.000000      0.00000      1.00000   \n",
       " max        1.000000      1.0000      1.000000      1.00000      1.00000   \n",
       " \n",
       "        Web_Forwards         Label  \n",
       " count  10000.000000  10000.000000  \n",
       " mean       0.105300      0.500000  \n",
       " std        0.306955      0.500025  \n",
       " min        0.000000      0.000000  \n",
       " 25%        0.000000      0.000000  \n",
       " 50%        0.000000      0.500000  \n",
       " 75%        0.000000      1.000000  \n",
       " max        1.000000      1.000000  )"
      ]
     },
     "execution_count": 2,
     "metadata": {},
     "output_type": "execute_result"
    }
   ],
   "source": [
    "data.info(), data.describe()"
   ]
  },
  {
   "cell_type": "code",
   "execution_count": 3,
   "metadata": {},
   "outputs": [
    {
     "data": {
      "text/plain": [
       "{'Have_IP': 55,\n",
       " 'Have_At': 226,\n",
       " 'URL_Length': 2266,\n",
       " 'URL_Depth': 357,\n",
       " 'Redirection': 135,\n",
       " 'https_Domain': 2,\n",
       " 'TinyURL': 903,\n",
       " 'Prefix/Suffix': 932,\n",
       " 'DNS_Record': 1008,\n",
       " 'Web_Traffic': 1543,\n",
       " 'Domain_Age': 0,\n",
       " 'Domain_End': 1901,\n",
       " 'iFrame': 909,\n",
       " 'Mouse_Over': 666,\n",
       " 'Right_Click': 7,\n",
       " 'Web_Forwards': 1053,\n",
       " 'Label': 0}"
      ]
     },
     "execution_count": 3,
     "metadata": {},
     "output_type": "execute_result"
    }
   ],
   "source": [
    "outliers = {}\n",
    "for column in data.select_dtypes(include=['int64']).columns:\n",
    "    Q1 = data[column].quantile(0.25)\n",
    "    Q3 = data[column].quantile(0.75)\n",
    "    IQR = Q3 - Q1\n",
    "    lower_bound = Q1 - 1.5 * IQR\n",
    "    upper_bound = Q3 + 1.5 * IQR\n",
    "    outlier_count = ((data[column] < lower_bound) | (data[column] > upper_bound)).sum()\n",
    "    outliers[column] = outlier_count\n",
    "\n",
    "outliers"
   ]
  },
  {
   "cell_type": "code",
   "execution_count": 4,
   "metadata": {},
   "outputs": [],
   "source": [
    "X = data.drop([\"Label\",\"Domain\"], axis=1)\n",
    "y = data[\"Label\"]\n",
    "X_train, X_test, y_train, y_test = train_test_split(X,y,test_size=.25)"
   ]
  },
  {
   "cell_type": "code",
   "execution_count": 5,
   "metadata": {},
   "outputs": [
    {
     "name": "stdout",
     "output_type": "stream",
     "text": [
      "{'activation': 'tanh', 'hidden_layer_sizes': 14, 'max_iter': 900, 'solver': 'lbfgs'}\n"
     ]
    },
    {
     "name": "stderr",
     "output_type": "stream",
     "text": [
      "c:\\Users\\austi\\anaconda3\\Lib\\site-packages\\sklearn\\neural_network\\_multilayer_perceptron.py:541: ConvergenceWarning: lbfgs failed to converge (status=1):\n",
      "STOP: TOTAL NO. of ITERATIONS REACHED LIMIT.\n",
      "\n",
      "Increase the number of iterations (max_iter) or scale the data as shown in:\n",
      "    https://scikit-learn.org/stable/modules/preprocessing.html\n",
      "  self.n_iter_ = _check_optimize_result(\"lbfgs\", opt_res, self.max_iter)\n"
     ]
    }
   ],
   "source": [
    "#Neural Network \n",
    "parameters = {'activation': ['identity', 'logistic', 'tanh', 'relu'], 'solver': ['lbfgs','adam','sgd'], 'hidden_layer_sizes':np.arange(5, 15),'max_iter':[500,600,700,800,900,1000]}\n",
    "mlp_clf = GridSearchCV(MLPClassifier(), parameters,n_jobs=-1)\n",
    "mlp_clf.fit(X_train, y_train)\n",
    "print(mlp_clf.best_params_)"
   ]
  },
  {
   "cell_type": "code",
   "execution_count": 6,
   "metadata": {},
   "outputs": [
    {
     "name": "stdout",
     "output_type": "stream",
     "text": [
      "MLP Accuracy: 0.8492 \n",
      "MLP Recall 0.7545239968528717 \n",
      "MLP Precision 0.9365234375\n",
      "[[1164   65]\n",
      " [ 312  959]]\n"
     ]
    }
   ],
   "source": [
    "y_pred = mlp_clf.predict(X_test)\n",
    "mlp_accuracy = accuracy_score(y_test,y_pred)\n",
    "mlp_recall = recall_score(y_test,y_pred)\n",
    "mlp_precision = precision_score(y_test,y_pred)\n",
    "print(\"MLP Accuracy:\",mlp_accuracy,\"\\nMLP Recall\",mlp_recall,\"\\nMLP Precision\",mlp_precision)\n",
    "print(confusion_matrix(y_test,y_pred))"
   ]
  },
  {
   "cell_type": "code",
   "execution_count": 7,
   "metadata": {},
   "outputs": [],
   "source": [
    "#Random Forest"
   ]
  }
 ],
 "metadata": {
  "kernelspec": {
   "display_name": "base",
   "language": "python",
   "name": "python3"
  },
  "language_info": {
   "codemirror_mode": {
    "name": "ipython",
    "version": 3
   },
   "file_extension": ".py",
   "mimetype": "text/x-python",
   "name": "python",
   "nbconvert_exporter": "python",
   "pygments_lexer": "ipython3",
   "version": "3.11.7"
  }
 },
 "nbformat": 4,
 "nbformat_minor": 2
}
